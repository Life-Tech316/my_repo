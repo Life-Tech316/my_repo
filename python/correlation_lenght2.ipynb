{
 "cells": [
  {
   "cell_type": "code",
   "execution_count": 36,
   "metadata": {},
   "outputs": [],
   "source": [
    "def compute_results1(bins=16, Nbootstraps=10,  method='landy-szalay', rseed=0): #2点相関の引数　Nブーストラップ数指定\n",
    "    np.random.seed(rseed)                                                       \n",
    "    bins = 10 ** np.linspace(np.log10(1. / 1000.), np.log10(1./5), 8) #2点相関の角度の最小値,最大値,bin幅\n",
    "                                                                                \n",
    "    results = [bins]                                                            \n",
    "    for D in [emitter827]:                                                                \n",
    "        results += bootstrap_two_point_angular(D[1],                            \n",
    "                                                D[2],                           \n",
    "                                               bins=bins,                       \n",
    "                                               method=method,                   \n",
    "                                               Nbootstraps=Nbootstraps,\n",
    "                                               random_state=None)         \n",
    "                                                                                \n",
    "    return results\n",
    "\n",
    "(bins1, corr1, corr_err1, bootstraps1) = compute_results1()                                                        \n",
    "bin_centers1 = 0.5 * (bins1[1:] + bins1[:-1])                                     \n",
    "corr1 = [corr1]\n",
    "corr_err1 = [corr_err1]\n",
    "bootstraps1 = [bootstraps1]"
   ]
  },
  {
   "cell_type": "code",
   "execution_count": 1,
   "metadata": {},
   "outputs": [
    {
     "ename": "OSError",
     "evalue": "File b'../DATE_DIR/Step3_SFG_sigma2_M_CFHT_SUBARU_VISTA.dat' does not exist",
     "output_type": "error",
     "traceback": [
      "\u001b[0;31m---------------------------------------------------------------------------\u001b[0m",
      "\u001b[0;31mOSError\u001b[0m                                   Traceback (most recent call last)",
      "\u001b[0;32m<ipython-input-1-f1c79bd36c84>\u001b[0m in \u001b[0;36m<module>\u001b[0;34m()\u001b[0m\n\u001b[1;32m     12\u001b[0m \u001b[0mi\u001b[0m \u001b[0;34m=\u001b[0m \u001b[0mnp\u001b[0m\u001b[0;34m.\u001b[0m\u001b[0marange\u001b[0m\u001b[0;34m(\u001b[0m\u001b[0;36m1\u001b[0m\u001b[0;34m,\u001b[0m\u001b[0;36m500\u001b[0m\u001b[0;34m,\u001b[0m\u001b[0;36m1\u001b[0m\u001b[0;34m)\u001b[0m\u001b[0;34m\u001b[0m\u001b[0m\n\u001b[1;32m     13\u001b[0m \u001b[0;34m\u001b[0m\u001b[0m\n\u001b[0;32m---> 14\u001b[0;31m \u001b[0memitter\u001b[0m\u001b[0;34m=\u001b[0m\u001b[0mpd\u001b[0m\u001b[0;34m.\u001b[0m\u001b[0mread_table\u001b[0m\u001b[0;34m(\u001b[0m\u001b[0;34m\"../DATE_DIR/Step3_SFG_sigma2_M_CFHT_SUBARU_VISTA.dat\"\u001b[0m\u001b[0;34m,\u001b[0m\u001b[0msep\u001b[0m\u001b[0;34m=\u001b[0m\u001b[0;34m\" \"\u001b[0m\u001b[0;34m,\u001b[0m\u001b[0mheader\u001b[0m\u001b[0;34m=\u001b[0m\u001b[0;32mNone\u001b[0m\u001b[0;34m)\u001b[0m\u001b[0;31m#座標入力1\u001b[0m\u001b[0;34m\u001b[0m\u001b[0m\n\u001b[0m\u001b[1;32m     15\u001b[0m \u001b[0mnonemitter827\u001b[0m\u001b[0;34m=\u001b[0m\u001b[0mpd\u001b[0m\u001b[0;34m.\u001b[0m\u001b[0mread_table\u001b[0m\u001b[0;34m(\u001b[0m\u001b[0;34m\"../DATE_DIR/photoz_zml_vers2.0_010312_galaxy_iband.dat\"\u001b[0m\u001b[0;34m,\u001b[0m\u001b[0msep\u001b[0m\u001b[0;34m=\u001b[0m\u001b[0;34m\" \"\u001b[0m\u001b[0;34m,\u001b[0m\u001b[0mnames\u001b[0m\u001b[0;34m=\u001b[0m\u001b[0mi\u001b[0m\u001b[0;34m,\u001b[0m\u001b[0mheader\u001b[0m\u001b[0;34m=\u001b[0m\u001b[0;32mNone\u001b[0m\u001b[0;34m)\u001b[0m\u001b[0;34m\u001b[0m\u001b[0m\n\u001b[1;32m     16\u001b[0m \u001b[0;34m\u001b[0m\u001b[0m\n",
      "\u001b[0;32m/Users/takuma/.pyenv/versions/anaconda3-4.1.0/lib/python3.5/site-packages/pandas/io/parsers.py\u001b[0m in \u001b[0;36mparser_f\u001b[0;34m(filepath_or_buffer, sep, delimiter, header, names, index_col, usecols, squeeze, prefix, mangle_dupe_cols, dtype, engine, converters, true_values, false_values, skipinitialspace, skiprows, skipfooter, nrows, na_values, keep_default_na, na_filter, verbose, skip_blank_lines, parse_dates, infer_datetime_format, keep_date_col, date_parser, dayfirst, iterator, chunksize, compression, thousands, decimal, lineterminator, quotechar, quoting, escapechar, comment, encoding, dialect, tupleize_cols, error_bad_lines, warn_bad_lines, skip_footer, doublequote, delim_whitespace, as_recarray, compact_ints, use_unsigned, low_memory, buffer_lines, memory_map, float_precision)\u001b[0m\n\u001b[1;32m    560\u001b[0m                     skip_blank_lines=skip_blank_lines)\n\u001b[1;32m    561\u001b[0m \u001b[0;34m\u001b[0m\u001b[0m\n\u001b[0;32m--> 562\u001b[0;31m         \u001b[0;32mreturn\u001b[0m \u001b[0m_read\u001b[0m\u001b[0;34m(\u001b[0m\u001b[0mfilepath_or_buffer\u001b[0m\u001b[0;34m,\u001b[0m \u001b[0mkwds\u001b[0m\u001b[0;34m)\u001b[0m\u001b[0;34m\u001b[0m\u001b[0m\n\u001b[0m\u001b[1;32m    563\u001b[0m \u001b[0;34m\u001b[0m\u001b[0m\n\u001b[1;32m    564\u001b[0m     \u001b[0mparser_f\u001b[0m\u001b[0;34m.\u001b[0m\u001b[0m__name__\u001b[0m \u001b[0;34m=\u001b[0m \u001b[0mname\u001b[0m\u001b[0;34m\u001b[0m\u001b[0m\n",
      "\u001b[0;32m/Users/takuma/.pyenv/versions/anaconda3-4.1.0/lib/python3.5/site-packages/pandas/io/parsers.py\u001b[0m in \u001b[0;36m_read\u001b[0;34m(filepath_or_buffer, kwds)\u001b[0m\n\u001b[1;32m    313\u001b[0m \u001b[0;34m\u001b[0m\u001b[0m\n\u001b[1;32m    314\u001b[0m     \u001b[0;31m# Create the parser.\u001b[0m\u001b[0;34m\u001b[0m\u001b[0;34m\u001b[0m\u001b[0m\n\u001b[0;32m--> 315\u001b[0;31m     \u001b[0mparser\u001b[0m \u001b[0;34m=\u001b[0m \u001b[0mTextFileReader\u001b[0m\u001b[0;34m(\u001b[0m\u001b[0mfilepath_or_buffer\u001b[0m\u001b[0;34m,\u001b[0m \u001b[0;34m**\u001b[0m\u001b[0mkwds\u001b[0m\u001b[0;34m)\u001b[0m\u001b[0;34m\u001b[0m\u001b[0m\n\u001b[0m\u001b[1;32m    316\u001b[0m \u001b[0;34m\u001b[0m\u001b[0m\n\u001b[1;32m    317\u001b[0m     \u001b[0;32mif\u001b[0m \u001b[0;34m(\u001b[0m\u001b[0mnrows\u001b[0m \u001b[0;32mis\u001b[0m \u001b[0;32mnot\u001b[0m \u001b[0;32mNone\u001b[0m\u001b[0;34m)\u001b[0m \u001b[0;32mand\u001b[0m \u001b[0;34m(\u001b[0m\u001b[0mchunksize\u001b[0m \u001b[0;32mis\u001b[0m \u001b[0;32mnot\u001b[0m \u001b[0;32mNone\u001b[0m\u001b[0;34m)\u001b[0m\u001b[0;34m:\u001b[0m\u001b[0;34m\u001b[0m\u001b[0m\n",
      "\u001b[0;32m/Users/takuma/.pyenv/versions/anaconda3-4.1.0/lib/python3.5/site-packages/pandas/io/parsers.py\u001b[0m in \u001b[0;36m__init__\u001b[0;34m(self, f, engine, **kwds)\u001b[0m\n\u001b[1;32m    643\u001b[0m             \u001b[0mself\u001b[0m\u001b[0;34m.\u001b[0m\u001b[0moptions\u001b[0m\u001b[0;34m[\u001b[0m\u001b[0;34m'has_index_names'\u001b[0m\u001b[0;34m]\u001b[0m \u001b[0;34m=\u001b[0m \u001b[0mkwds\u001b[0m\u001b[0;34m[\u001b[0m\u001b[0;34m'has_index_names'\u001b[0m\u001b[0;34m]\u001b[0m\u001b[0;34m\u001b[0m\u001b[0m\n\u001b[1;32m    644\u001b[0m \u001b[0;34m\u001b[0m\u001b[0m\n\u001b[0;32m--> 645\u001b[0;31m         \u001b[0mself\u001b[0m\u001b[0;34m.\u001b[0m\u001b[0m_make_engine\u001b[0m\u001b[0;34m(\u001b[0m\u001b[0mself\u001b[0m\u001b[0;34m.\u001b[0m\u001b[0mengine\u001b[0m\u001b[0;34m)\u001b[0m\u001b[0;34m\u001b[0m\u001b[0m\n\u001b[0m\u001b[1;32m    646\u001b[0m \u001b[0;34m\u001b[0m\u001b[0m\n\u001b[1;32m    647\u001b[0m     \u001b[0;32mdef\u001b[0m \u001b[0mclose\u001b[0m\u001b[0;34m(\u001b[0m\u001b[0mself\u001b[0m\u001b[0;34m)\u001b[0m\u001b[0;34m:\u001b[0m\u001b[0;34m\u001b[0m\u001b[0m\n",
      "\u001b[0;32m/Users/takuma/.pyenv/versions/anaconda3-4.1.0/lib/python3.5/site-packages/pandas/io/parsers.py\u001b[0m in \u001b[0;36m_make_engine\u001b[0;34m(self, engine)\u001b[0m\n\u001b[1;32m    797\u001b[0m     \u001b[0;32mdef\u001b[0m \u001b[0m_make_engine\u001b[0m\u001b[0;34m(\u001b[0m\u001b[0mself\u001b[0m\u001b[0;34m,\u001b[0m \u001b[0mengine\u001b[0m\u001b[0;34m=\u001b[0m\u001b[0;34m'c'\u001b[0m\u001b[0;34m)\u001b[0m\u001b[0;34m:\u001b[0m\u001b[0;34m\u001b[0m\u001b[0m\n\u001b[1;32m    798\u001b[0m         \u001b[0;32mif\u001b[0m \u001b[0mengine\u001b[0m \u001b[0;34m==\u001b[0m \u001b[0;34m'c'\u001b[0m\u001b[0;34m:\u001b[0m\u001b[0;34m\u001b[0m\u001b[0m\n\u001b[0;32m--> 799\u001b[0;31m             \u001b[0mself\u001b[0m\u001b[0;34m.\u001b[0m\u001b[0m_engine\u001b[0m \u001b[0;34m=\u001b[0m \u001b[0mCParserWrapper\u001b[0m\u001b[0;34m(\u001b[0m\u001b[0mself\u001b[0m\u001b[0;34m.\u001b[0m\u001b[0mf\u001b[0m\u001b[0;34m,\u001b[0m \u001b[0;34m**\u001b[0m\u001b[0mself\u001b[0m\u001b[0;34m.\u001b[0m\u001b[0moptions\u001b[0m\u001b[0;34m)\u001b[0m\u001b[0;34m\u001b[0m\u001b[0m\n\u001b[0m\u001b[1;32m    800\u001b[0m         \u001b[0;32melse\u001b[0m\u001b[0;34m:\u001b[0m\u001b[0;34m\u001b[0m\u001b[0m\n\u001b[1;32m    801\u001b[0m             \u001b[0;32mif\u001b[0m \u001b[0mengine\u001b[0m \u001b[0;34m==\u001b[0m \u001b[0;34m'python'\u001b[0m\u001b[0;34m:\u001b[0m\u001b[0;34m\u001b[0m\u001b[0m\n",
      "\u001b[0;32m/Users/takuma/.pyenv/versions/anaconda3-4.1.0/lib/python3.5/site-packages/pandas/io/parsers.py\u001b[0m in \u001b[0;36m__init__\u001b[0;34m(self, src, **kwds)\u001b[0m\n\u001b[1;32m   1211\u001b[0m         \u001b[0mkwds\u001b[0m\u001b[0;34m[\u001b[0m\u001b[0;34m'allow_leading_cols'\u001b[0m\u001b[0;34m]\u001b[0m \u001b[0;34m=\u001b[0m \u001b[0mself\u001b[0m\u001b[0;34m.\u001b[0m\u001b[0mindex_col\u001b[0m \u001b[0;32mis\u001b[0m \u001b[0;32mnot\u001b[0m \u001b[0;32mFalse\u001b[0m\u001b[0;34m\u001b[0m\u001b[0m\n\u001b[1;32m   1212\u001b[0m \u001b[0;34m\u001b[0m\u001b[0m\n\u001b[0;32m-> 1213\u001b[0;31m         \u001b[0mself\u001b[0m\u001b[0;34m.\u001b[0m\u001b[0m_reader\u001b[0m \u001b[0;34m=\u001b[0m \u001b[0m_parser\u001b[0m\u001b[0;34m.\u001b[0m\u001b[0mTextReader\u001b[0m\u001b[0;34m(\u001b[0m\u001b[0msrc\u001b[0m\u001b[0;34m,\u001b[0m \u001b[0;34m**\u001b[0m\u001b[0mkwds\u001b[0m\u001b[0;34m)\u001b[0m\u001b[0;34m\u001b[0m\u001b[0m\n\u001b[0m\u001b[1;32m   1214\u001b[0m \u001b[0;34m\u001b[0m\u001b[0m\n\u001b[1;32m   1215\u001b[0m         \u001b[0;31m# XXX\u001b[0m\u001b[0;34m\u001b[0m\u001b[0;34m\u001b[0m\u001b[0m\n",
      "\u001b[0;32mpandas/parser.pyx\u001b[0m in \u001b[0;36mpandas.parser.TextReader.__cinit__ (pandas/parser.c:3427)\u001b[0;34m()\u001b[0m\n",
      "\u001b[0;32mpandas/parser.pyx\u001b[0m in \u001b[0;36mpandas.parser.TextReader._setup_parser_source (pandas/parser.c:6861)\u001b[0;34m()\u001b[0m\n",
      "\u001b[0;31mOSError\u001b[0m: File b'../DATE_DIR/Step3_SFG_sigma2_M_CFHT_SUBARU_VISTA.dat' does not exist"
     ]
    }
   ],
   "source": [
    "#データ読み込み及び相関関数計算\n",
    "\n",
    "import numpy as np\n",
    "from matplotlib import pyplot as plt\n",
    "import pandas as pd\n",
    "from scipy.optimize import curve_fit\n",
    "from astroML.decorators import pickle_results\n",
    "from astroML.datasets import fetch_sdss_specgals\n",
    "from astroML.correlation import bootstrap_two_point_angular\n",
    "\n",
    "# 397 398\n",
    "i = np.arange(1,500,1)\n",
    "\n",
    "emitter=pd.read_table(\"../DATE_DIR/Step3_SFG_sigma2_M_CFHT_SUBARU_VISTA.dat\",sep=\" \",header=None)#座標入力1\n",
    "nonemitter827=pd.read_table(\"../DATE_DIR/photoz_zml_vers2.0_010312_galaxy_iband.dat\",sep=\" \",names=i,header=None)\n",
    "\n",
    "emitter827 =emitter[((emitter[398]==\"[OIII]+Hb\") & (emitter[397]==\"IA827\")) | ((emitter[411]==\"[OIII]+Hb\") & (emitter[410]==\"IA827\"))]\n",
    "emitter767 =emitter[((emitter[398]==\"[OIII]+Hb\") & (emitter[397]==\"IA767\")) | ((emitter[411]==\"[OIII]+Hb\") & (emitter[410]==\"IA767\"))]\n",
    "emitter738 =emitter[((emitter[398]==\"[OIII]+Hb\") & (emitter[397]==\"IA738\")) | ((emitter[411]==\"[OIII]+Hb\") & (emitter[410]==\"IA738\"))]\n",
    "emitter709 =emitter[((emitter[398]==\"[OIII]+Hb\") & (emitter[397]==\"IA709\")) | ((emitter[411]==\"[OIII]+Hb\") & (emitter[410]==\"IA709\"))]\n",
    "\n",
    "emitter827_767 =emitter[((emitter[398]==\"[OIII]+Hb\") & (emitter[397]==\"IA827\")) | ((emitter[411]==\"[OIII]+Hb\") & (emitter[410]==\"IA827\")) ]\n",
    "                   #   | ((emitter[398]==\"[OIII]+Hb\") & (emitter[397]==\"IA767\")) | ((emitter[411]==\"[OIII]+Hb\") & (emitter[410]==\"IA767\")) ]\n",
    "\n",
    "#emitter738_709 =emitter[((emitter[398]==\"[OIII]+Hb\") & (emitter[397]==\"IA738\")) | ((emitter[411]==\"[OIII]+Hb\") & (emitter[410]==\"IA738\")) \n",
    "  #                    | ((emitter[398]==\"[OIII]+Hb\") & (emitter[397]==\"IA709\")) | ((emitter[411]==\"[OIII]+Hb\") & (emitter[410]==\"IA709\")) ]\n",
    "\n",
    "#emitter624_679 =emitter[((emitter[398]==\"[OIII]+Hb\") & (emitter[397]==\"IA624\")) | ((emitter[411]==\"[OIII]+Hb\") & (emitter[410]==\"IA624\")) \n",
    "    #                  | ((emitter[398]==\"[OIII]+Hb\") & (emitter[397]==\"IA679\")) | ((emitter[411]==\"[OIII]+Hb\") & (emitter[410]==\"IA679\")) ]"
   ]
  },
  {
   "cell_type": "code",
   "execution_count": 5,
   "metadata": {
    "scrolled": true
   },
   "outputs": [],
   "source": [
    "nonemitter767_8=nonemitter827[(nonemitter827[44]<8)&(nonemitter827[2]!=99)  & (  0.4983 < nonemitter827[6]) & (nonemitter827[6] < 0.5712)]\n",
    "nonemitter767_8_9=nonemitter827[(nonemitter827[44]>8)&(nonemitter827[44]<9)&(nonemitter827[2]!=99)  & ( 0.4983 < nonemitter827[6]) & (nonemitter827[6] < 0.5712)]\n",
    "nonemitter767_9_10=nonemitter827[(nonemitter827[44]>9)&(nonemitter827[44]<10)&(nonemitter827[2]!=99)  & ( 0.4983 < nonemitter827[6]) & (nonemitter827[6] < 0.5712)]\n",
    "nonemitter767_10=nonemitter827[(nonemitter827[44]>10)&(nonemitter827[2]!=99)  & ( 0.4983< nonemitter827[6]) & (nonemitter827[6] < 0.5712)]\n"
   ]
  },
  {
   "cell_type": "code",
   "execution_count": 6,
   "metadata": {},
   "outputs": [],
   "source": [
    "#データ読み込み及び相関関数計算\n",
    "\n",
    "def compute_results1(bins=16, Nbootstraps=10,  method='landy-szalay', rseed=0): #2点相関の引数　Nブーストラップ数指定\n",
    "    np.random.seed(rseed)                                                       \n",
    "    bins = 10 ** np.linspace(np.log10(1. / 1000.), np.log10(1./5), 8) #2点相関の角度の最小値,最大値,bin幅\n",
    "                                                                                \n",
    "    results = [bins]                                                            \n",
    "    for D in [nonemitter767_10]:                                                                \n",
    "        results += bootstrap_two_point_angular(D[4],                            \n",
    "                                                D[5],                           \n",
    "                                               bins=bins,                       \n",
    "                                               method=method,                   \n",
    "                                               Nbootstraps=Nbootstraps,\n",
    "                                               random_state=None)         \n",
    "                                                                                \n",
    "    return results\n",
    "\n",
    "def compute_results2(bins=16, Nbootstraps=10,  method='landy-szalay', rseed=0): #2点相関の引数　Nブーストラップ数指定\n",
    "    np.random.seed(rseed)                                                       \n",
    "    bins = 10 ** np.linspace(np.log10(1. / 1000.), np.log10(1./5), 8) #2点相関の角度の最小値,最大値,bin幅\n",
    "                                                                                \n",
    "    results = [bins]                                                            \n",
    "    for D in [nonemitter767_9_10]:                                                                \n",
    "        results += bootstrap_two_point_angular(D[4],                            \n",
    "                                                D[5],                           \n",
    "                                               bins=bins,                       \n",
    "                                               method=method,                   \n",
    "                                               Nbootstraps=Nbootstraps,\n",
    "                                               random_state=None)         \n",
    "                                                                                \n",
    "    return results\n",
    "\n",
    "def compute_results3(bins=16, Nbootstraps=10,  method='landy-szalay', rseed=0): #2点相関の引数　Nブーストラップ数指定\n",
    "    np.random.seed(rseed)                                                       \n",
    "    bins = 10 ** np.linspace(np.log10(1. / 1000.), np.log10(1./5), 8) #2点相関の角度の最小値,最大値,bin幅\n",
    "                                                                                \n",
    "    results = [bins]                                                            \n",
    "    for D in [nonemitter767_8_9]:                                                                \n",
    "        results += bootstrap_two_point_angular(D[4],                            \n",
    "                                                D[5],                           \n",
    "                                               bins=bins,                       \n",
    "                                               method=method,                   \n",
    "                                               Nbootstraps=Nbootstraps,\n",
    "                                               random_state=None)         \n",
    "                                                                                \n",
    "    return results\n",
    "\n",
    "def compute_results4(bins=16, Nbootstraps=10,  method='landy-szalay', rseed=0): #2点相関の引数　Nブーストラップ数指定\n",
    "    np.random.seed(rseed)                                                       \n",
    "    bins = 10 ** np.linspace(np.log10(1. / 1000.), np.log10(1./5), 8) #2点相関の角度の最小値,最大値,bin幅\n",
    "                                                                                \n",
    "    results = [bins]                                                            \n",
    "    for D in [nonemitter767_8]:                                                                \n",
    "        results += bootstrap_two_point_angular(D[4],                            \n",
    "                                                D[5],                           \n",
    "                                               bins=bins,                       \n",
    "                                               method=method,                   \n",
    "                                               Nbootstraps=Nbootstraps,\n",
    "                                               random_state=None)         \n",
    "                                                                                \n",
    "    return results\n",
    "\n",
    "(bins1, corr1, corr_err1, bootstraps1) = compute_results1()                                                        \n",
    "bin_centers1 = 0.5 * (bins1[1:] + bins1[:-1])                                     \n",
    "corr1 = [corr1]\n",
    "corr_err1 = [corr_err1]\n",
    "bootstraps1 = [bootstraps1]\n",
    "\n",
    "(bins2, corr2, corr_err2, bootstraps2) = compute_results2()                                                        \n",
    "bin_centers2 = 0.5 * (bins2[1:] + bins2[:-1])                                     \n",
    "corr2 = [corr2]\n",
    "corr_err2 = [corr_err2]\n",
    "bootstraps2 = [bootstraps2]\n",
    "\n",
    "(bins3, corr3, corr_err3, bootstraps3) = compute_results3()                                                        \n",
    "bin_centers3 = 0.5 * (bins3[1:] + bins3[:-1])                                     \n",
    "corr3 = [corr3]\n",
    "corr_err3 = [corr_err3]\n",
    "bootstraps3 = [bootstraps3]\n",
    "\n",
    "(bins4, corr4, corr_err4, bootstraps4) = compute_results4()                                                        \n",
    "bin_centers4 = 0.5 * (bins4[1:] + bins4[:-1])                                     \n",
    "corr4 = [corr4]\n",
    "corr_err4 = [corr_err4]\n",
    "bootstraps4 = [bootstraps4]\n",
    "\n"
   ]
  },
  {
   "cell_type": "code",
   "execution_count": 8,
   "metadata": {},
   "outputs": [],
   "source": [
    "#リストに変更\n",
    "bin_centers1 = 0.5 * (bins1[1:] + bins1[:-1])    \n",
    "bin_centers1=[bin_centers1]\n",
    "bin_centers2 = 0.5 * (bins2[1:] + bins2[:-1])    \n",
    "bin_centers2=[bin_centers2]\n",
    "bin_centers3 = 0.5 * (bins3[1:] + bins3[:-1])    \n",
    "bin_centers3=[bin_centers3]\n",
    "bin_centers4 = 0.5 * (bins4[1:] + bins4[:-1])    \n",
    "bin_centers4=[bin_centers4]"
   ]
  },
  {
   "cell_type": "code",
   "execution_count": 10,
   "metadata": {},
   "outputs": [],
   "source": [
    "#一応保存できる\n",
    "np.savetxt('./767/emitter767_10.csv', bin_centers1, delimiter=',')\n",
    "np.savetxt('./767/emitter767_10_corr.csv', corr1, delimiter=',')\n",
    "np.savetxt('./767/emitter767_10_err.csv', corr_err1, delimiter=',')\n",
    "\n",
    "np.savetxt('./767/emitter767_9_10.csv', bin_centers2, delimiter=',')\n",
    "np.savetxt('./767/emitter767_9_10_corr.csv', corr2, delimiter=',')\n",
    "np.savetxt('./767/emitter767_9_10_err.csv', corr_err2, delimiter=',')\n",
    "\n",
    "np.savetxt('./767/emitter767_8_9.csv', bin_centers3, delimiter=',')\n",
    "np.savetxt('./767/emitter767_8_9_corr.csv', corr3, delimiter=',')\n",
    "np.savetxt('./767/emitter767_8_9_err.csv', corr_err3, delimiter=',')\n",
    "\n",
    "np.savetxt('./767/emitter767_8.csv', bin_centers4, delimiter=',')\n",
    "np.savetxt('./767/emitter767_8_corr.csv', corr4, delimiter=',')\n",
    "np.savetxt('./767/emitter767_8_err.csv', corr_err4, delimiter=',')\n",
    "#データ処理　及びべき乗fitting関数"
   ]
  },
  {
   "cell_type": "code",
   "execution_count": 15,
   "metadata": {},
   "outputs": [],
   "source": [
    "bin_centers1 = pd.read_csv('./767/emitter767_10.csv',header=None)\n",
    "corr1= pd.read_csv('./767/emitter767_10_corr.csv',header=None)\n",
    "corr_err1= pd.read_csv('./767/emitter767_10_err.csv',header=None)\n",
    "\n",
    "bin_centers2 = pd.read_csv('./767/emitter767_9_10.csv',header=None)\n",
    "corr2= pd.read_csv('./767/emitter767_9_10_corr.csv',header=None)\n",
    "corr_err2= pd.read_csv('./767/emitter767_9_10_err.csv',header=None)\n",
    "\n",
    "bin_centers3 = pd.read_csv('./767/emitter767_8_9.csv',header=None)\n",
    "corr3= pd.read_csv('./767/emitter767_8_9_corr.csv',header=None)\n",
    "corr_err3= pd.read_csv('./767/emitter767_8_9_err.csv',header=None)\n",
    "\n",
    "bin_centers4 = pd.read_csv('./767/emitter767_8.csv',header=None)\n",
    "corr4= pd.read_csv('./767/emitter767_8_corr.csv',header=None)\n",
    "corr_err4= pd.read_csv('./767/emitter767_8_err.csv',header=None)\n",
    "\n",
    "bin_fit_init1 = np.vstack([bin_centers1,corr1,corr_err1])\n",
    "bin_fitx1=[]\n",
    "bin_fity1=[]\n",
    "bin_fit_error1=[]\n",
    "\n",
    "for i , j ,h  in zip(bin_fit_init1[0],bin_fit_init1[1],bin_fit_init1[2]):\n",
    "    if (i > 0.004) & (i < 0.2)& ( j > 0):\n",
    "       bin_fitx1.append(i)\n",
    "       bin_fity1.append(j)   \n",
    "       bin_fit_error1.append(h)\n",
    "\n",
    "bin_fit_init2 = np.vstack([bin_centers2,corr2,corr_err2])\n",
    "bin_fitx2=[]\n",
    "bin_fity2=[]\n",
    "bin_fit_error2=[]\n",
    "\n",
    "for i , j ,h  in zip(bin_fit_init2[0],bin_fit_init2[1],bin_fit_init2[2]):\n",
    "    if (i > 0.004) & (i < 0.2)& ( j > 0):\n",
    "       bin_fitx2.append(i)\n",
    "       bin_fity2.append(j)   \n",
    "       bin_fit_error2.append(h)\n",
    "\n",
    "bin_fit_init3 = np.vstack([bin_centers3,corr3,corr_err3])\n",
    "bin_fitx3=[]\n",
    "bin_fity3=[]\n",
    "bin_fit_error3=[]\n",
    "\n",
    "for i , j ,h  in zip(bin_fit_init3[0],bin_fit_init3[1],bin_fit_init3[2]):\n",
    "    if (i > 0.004) & (i < 0.2)& ( j > 0):\n",
    "       bin_fitx3.append(i)\n",
    "       bin_fity3.append(j)   \n",
    "       bin_fit_error3.append(h)  \n",
    "    \n",
    "bin_fit_init4 = np.vstack([bin_centers4,corr4,corr_err4])\n",
    "bin_fitx4=[]\n",
    "bin_fity4=[]\n",
    "bin_fit_error4=[]\n",
    "\n",
    "for i , j ,h  in zip(bin_fit_init4[0],bin_fit_init4[1],bin_fit_init4[2]):\n",
    "    if (i > 0.004) & (i < 0.2)& ( j > 0):\n",
    "       bin_fitx4.append(i)\n",
    "       bin_fity4.append(j)   \n",
    "       bin_fit_error4.append(h)  "
   ]
  },
  {
   "cell_type": "code",
   "execution_count": null,
   "metadata": {
    "collapsed": true,
    "jupyter": {
     "outputs_hidden": true
    }
   },
   "outputs": [],
   "source": [
    "parameter_initial = np.array([0.0, 0.0])#初期値パラメーター\n",
    "parameter_initial_emitter = np.array([0.0])#初期値パラメーター\n",
    "\n",
    "#Fitting Function\n",
    "def fit(x, a, b):\n",
    "    return  a * x + b\n",
    "\n",
    "def fit_emitter(x, a):\n",
    "    return  -0.8* x + a\n",
    "\n",
    "#xvalue , yvalue , error \n",
    "#対数を取り、関数のフィッティングを行う\n",
    "\n",
    "param1, cov1 = curve_fit(fit_emitter,np.log10(bin_fitx1),np.log10(bin_fity1),p0=parameter_initial_emitter)#対数を取り、関数のフィッティングを行う\n",
    "param2, cov2 = curve_fit(fit_emitter,np.log10(bin_fitx2),np.log10(bin_fity2),p0=parameter_initial_emitter)#対数を取り、関数のフィッティングを行う\n",
    "param3, cov3 = curve_fit(fit_emitter,np.log10(bin_fitx3),np.log10(bin_fity3),p0=parameter_initial_emitter)#対数を取り、関数のフィッティングを行う\n",
    "param4, cov4 = curve_fit(fit_emitter,np.log10(bin_fitx4),np.log10(bin_fity4),p0=parameter_initial_emitter)#対数を取り、関数のフィッティングを行う\n"
   ]
  },
  {
   "cell_type": "code",
   "execution_count": 110,
   "metadata": {},
   "outputs": [
    {
     "name": "stdout",
     "output_type": "stream",
     "text": [
      "0.0180751145766\n",
      "0.00453481349414\n"
     ]
    },
    {
     "data": {
      "text/plain": [
       "(None, None)"
      ]
     },
     "execution_count": 110,
     "metadata": {},
     "output_type": "execute_result"
    }
   ],
   "source": [
    "bin_fit_init1 = np.vstack([bin_centers1,corr1,corr_err1])\n",
    "bin_fitx1=[]\n",
    "bin_fity1=[]\n",
    "bin_fit_error1=[]\n",
    "\n",
    "for i , j ,h  in zip(bin_fit_init1[0],bin_fit_init1[1],bin_fit_init1[2]):\n",
    "    if (i > 0.004) & (i < 0.2)& ( j > 0):\n",
    "       bin_fitx1.append(i)\n",
    "       bin_fity1.append(j)   \n",
    "       bin_fit_error1.append(h)\n",
    "\n",
    "#Fitting Function\n",
    "#param[0] ==　β /  10^param[1] ==A \n",
    "\n",
    "def fit(x, a, b):\n",
    "    return  a * x + b\n",
    "def fit_emitter(x, a):\n",
    "    return  -0.8* x + a\n",
    "\n",
    "param1, cov1 = curve_fit(fit_emitter,np.log10(bin_fitx1),np.log10(bin_fity1),p0=parameter_initial_emitter)#対数を取り、関数のフィッティングを行う\n",
    "perr1 = np.sqrt(np.diag(cov1))\n",
    "print(pow(10,param1[0])) , print(pow(10,param1[0]+perr1[0])-pow(10,param1[0]))\n"
   ]
  },
  {
   "cell_type": "code",
   "execution_count": 58,
   "metadata": {},
   "outputs": [
    {
     "name": "stdout",
     "output_type": "stream",
     "text": [
      "-0.559035157066 0.04132476619\n",
      "+/- 0.197374976073\n",
      "0.285150414352\n"
     ]
    },
    {
     "data": {
      "text/plain": [
       "(None, None, None)"
      ]
     },
     "execution_count": 58,
     "metadata": {},
     "output_type": "execute_result"
    }
   ],
   "source": [
    "#Fitting Function\n",
    "def fit(x, a, b):\n",
    "    return  a * x + b\n",
    "\n",
    "param1, cov1 = curve_fit(fit,np.log10(bin_fitx1),np.log10(bin_fity1),p0=parameter_initial)#対数を取り、関数のフィッティングを行う\n",
    "\n",
    "perr1 = np.sqrt(np.diag(cov1))\n",
    "print(param1[0] ,pow(10,param1[1])),print(\"+/-\" ,perr1[0]) , print(pow(10,param1[0]+perr1[1])-pow(10,param1[0]))"
   ]
  },
  {
   "cell_type": "code",
   "execution_count": 103,
   "metadata": {},
   "outputs": [
    {
     "name": "stdout",
     "output_type": "stream",
     "text": [
      "0.0210213115269\n",
      "0.0010906151995\n",
      "0.0103273038054\n",
      "0.000762917919456\n",
      "0.00451812022835\n",
      "0.000515898164754\n",
      "0.0058118852437\n",
      "0.000386582177254\n"
     ]
    },
    {
     "data": {
      "text/plain": [
       "(None, None)"
      ]
     },
     "execution_count": 103,
     "metadata": {},
     "output_type": "execute_result"
    }
   ],
   "source": [
    "perr1 = np.sqrt(np.diag(cov1))\n",
    "print(pow(10,param1[0])) , print(pow(10,param1[0]+perr1[0])-pow(10,param1[0]))\n",
    "perr2 = np.sqrt(np.diag(cov2))\n",
    "print(pow(10,param2[0])) , print(pow(10,param2[0]+perr2[0])-pow(10,param2[0]))\n",
    "perr3 = np.sqrt(np.diag(cov3))\n",
    "print(pow(10,param3[0])) , print(pow(10,param3[0]+perr3[0])-pow(10,param3[0]))\n",
    "perr4 = np.sqrt(np.diag(cov4))\n",
    "print(pow(10,param4[0])) , print(pow(10,param4[0]+perr4[0])-pow(10,param4[0]))\n",
    "\n"
   ]
  },
  {
   "cell_type": "code",
   "execution_count": 84,
   "metadata": {},
   "outputs": [
    {
     "name": "stdout",
     "output_type": "stream",
     "text": [
      "-0.87030123221\n",
      "0.0165152141849\n",
      "0.0364647222299\n",
      "0.00231316541061\n",
      "-0.755519501631\n",
      "0.0120303933755\n",
      "0.0724683766862\n",
      "0.00358013052887\n",
      "-0.609054874662\n",
      "0.0087003897582\n",
      "0.0380852238956\n",
      "0.00127655050656\n",
      "-0.737654498363\n",
      "0.00719839312999\n",
      "0.0594142637149\n",
      "0.00171397521754\n"
     ]
    },
    {
     "data": {
      "text/plain": [
       "(None, None, None, None)"
      ]
     },
     "execution_count": 84,
     "metadata": {},
     "output_type": "execute_result"
    }
   ],
   "source": [
    "perr1 = np.sqrt(np.diag(cov1))\n",
    "print(param1[0]) , print(pow(10,param1[1])) ,print(perr1[0]),print(pow(10,param1[1]+perr1[1])-pow(10,param1[1]))\n",
    "perr2 = np.sqrt(np.diag(cov2))\n",
    "print(param2[0]) , print(pow(10,param2[1])) ,print(perr2[0]),print(pow(10,param2[1]+perr2[1])-pow(10,param2[1]))\n",
    "perr3 = np.sqrt(np.diag(cov3))\n",
    "print(param3[0]) , print(pow(10,param3[1])) ,print(perr3[0]),print(pow(10,param3[1]+perr3[1])-pow(10,param3[1]))\n",
    "perr4 = np.sqrt(np.diag(cov4))\n",
    "print(param4[0]) , print(pow(10,param4[1])) ,print(perr4[0]),print(pow(10,param4[1]+perr4[1])-pow(10,param4[1]))"
   ]
  },
  {
   "cell_type": "code",
   "execution_count": 52,
   "metadata": {
    "collapsed": true,
    "jupyter": {
     "outputs_hidden": true
    }
   },
   "outputs": [
    {
     "name": "stdout",
     "output_type": "stream",
     "text": [
      "-0.559035157066 0.04132476619\n",
      "+/- 0.197374976073\n",
      "0.285150414352\n"
     ]
    },
    {
     "ename": "IndexError",
     "evalue": "index 1 is out of bounds for axis 0 with size 1",
     "output_type": "error",
     "traceback": [
      "\u001b[0;31m---------------------------------------------------------------------------\u001b[0m",
      "\u001b[0;31mIndexError\u001b[0m                                Traceback (most recent call last)",
      "\u001b[0;32m<ipython-input-52-80a921a44455>\u001b[0m in \u001b[0;36m<module>\u001b[0;34m()\u001b[0m\n\u001b[1;32m      5\u001b[0m \u001b[0;34m\u001b[0m\u001b[0m\n\u001b[1;32m      6\u001b[0m \u001b[0mprint\u001b[0m\u001b[0;34m(\u001b[0m\u001b[0mparam1\u001b[0m\u001b[0;34m[\u001b[0m\u001b[0;36m0\u001b[0m\u001b[0;34m]\u001b[0m \u001b[0;34m,\u001b[0m\u001b[0mpow\u001b[0m\u001b[0;34m(\u001b[0m\u001b[0;36m10\u001b[0m\u001b[0;34m,\u001b[0m\u001b[0mparam1\u001b[0m\u001b[0;34m[\u001b[0m\u001b[0;36m1\u001b[0m\u001b[0;34m]\u001b[0m\u001b[0;34m)\u001b[0m\u001b[0;34m)\u001b[0m\u001b[0;34m,\u001b[0m\u001b[0mprint\u001b[0m\u001b[0;34m(\u001b[0m\u001b[0;34m\"+/-\"\u001b[0m \u001b[0;34m,\u001b[0m\u001b[0mperr1\u001b[0m\u001b[0;34m[\u001b[0m\u001b[0;36m0\u001b[0m\u001b[0;34m]\u001b[0m\u001b[0;34m)\u001b[0m \u001b[0;34m,\u001b[0m \u001b[0mprint\u001b[0m\u001b[0;34m(\u001b[0m\u001b[0mpow\u001b[0m\u001b[0;34m(\u001b[0m\u001b[0;36m10\u001b[0m\u001b[0;34m,\u001b[0m\u001b[0mparam1\u001b[0m\u001b[0;34m[\u001b[0m\u001b[0;36m0\u001b[0m\u001b[0;34m]\u001b[0m\u001b[0;34m+\u001b[0m\u001b[0mperr1\u001b[0m\u001b[0;34m[\u001b[0m\u001b[0;36m1\u001b[0m\u001b[0;34m]\u001b[0m\u001b[0;34m)\u001b[0m\u001b[0;34m-\u001b[0m\u001b[0mpow\u001b[0m\u001b[0;34m(\u001b[0m\u001b[0;36m10\u001b[0m\u001b[0;34m,\u001b[0m\u001b[0mparam1\u001b[0m\u001b[0;34m[\u001b[0m\u001b[0;36m0\u001b[0m\u001b[0;34m]\u001b[0m\u001b[0;34m)\u001b[0m\u001b[0;34m)\u001b[0m\u001b[0;34m\u001b[0m\u001b[0m\n\u001b[0;32m----> 7\u001b[0;31m \u001b[0mprint\u001b[0m\u001b[0;34m(\u001b[0m\u001b[0mparam2\u001b[0m\u001b[0;34m[\u001b[0m\u001b[0;36m0\u001b[0m\u001b[0;34m]\u001b[0m \u001b[0;34m,\u001b[0m\u001b[0mpow\u001b[0m\u001b[0;34m(\u001b[0m\u001b[0;36m10\u001b[0m\u001b[0;34m,\u001b[0m\u001b[0mparam2\u001b[0m\u001b[0;34m[\u001b[0m\u001b[0;36m1\u001b[0m\u001b[0;34m]\u001b[0m\u001b[0;34m)\u001b[0m\u001b[0;34m)\u001b[0m\u001b[0;34m,\u001b[0m\u001b[0mprint\u001b[0m\u001b[0;34m(\u001b[0m\u001b[0;34m\"+/-\"\u001b[0m \u001b[0;34m,\u001b[0m\u001b[0mperr2\u001b[0m\u001b[0;34m[\u001b[0m\u001b[0;36m0\u001b[0m\u001b[0;34m]\u001b[0m\u001b[0;34m)\u001b[0m \u001b[0;34m,\u001b[0m \u001b[0mprint\u001b[0m\u001b[0;34m(\u001b[0m\u001b[0mpow\u001b[0m\u001b[0;34m(\u001b[0m\u001b[0;36m10\u001b[0m\u001b[0;34m,\u001b[0m\u001b[0mparam2\u001b[0m\u001b[0;34m[\u001b[0m\u001b[0;36m0\u001b[0m\u001b[0;34m]\u001b[0m\u001b[0;34m+\u001b[0m\u001b[0mperr2\u001b[0m\u001b[0;34m[\u001b[0m\u001b[0;36m1\u001b[0m\u001b[0;34m]\u001b[0m\u001b[0;34m)\u001b[0m\u001b[0;34m-\u001b[0m\u001b[0mpow\u001b[0m\u001b[0;34m(\u001b[0m\u001b[0;36m10\u001b[0m\u001b[0;34m,\u001b[0m\u001b[0mparam2\u001b[0m\u001b[0;34m[\u001b[0m\u001b[0;36m0\u001b[0m\u001b[0;34m]\u001b[0m\u001b[0;34m)\u001b[0m\u001b[0;34m)\u001b[0m\u001b[0;34m\u001b[0m\u001b[0m\n\u001b[0m\u001b[1;32m      8\u001b[0m \u001b[0mprint\u001b[0m\u001b[0;34m(\u001b[0m\u001b[0mparam3\u001b[0m\u001b[0;34m[\u001b[0m\u001b[0;36m0\u001b[0m\u001b[0;34m]\u001b[0m \u001b[0;34m,\u001b[0m\u001b[0mpow\u001b[0m\u001b[0;34m(\u001b[0m\u001b[0;36m10\u001b[0m\u001b[0;34m,\u001b[0m\u001b[0mparam3\u001b[0m\u001b[0;34m[\u001b[0m\u001b[0;36m1\u001b[0m\u001b[0;34m]\u001b[0m\u001b[0;34m)\u001b[0m\u001b[0;34m)\u001b[0m \u001b[0;34m,\u001b[0m\u001b[0mprint\u001b[0m\u001b[0;34m(\u001b[0m\u001b[0;34m\"+/-\"\u001b[0m \u001b[0;34m,\u001b[0m\u001b[0mperr3\u001b[0m\u001b[0;34m[\u001b[0m\u001b[0;36m0\u001b[0m\u001b[0;34m]\u001b[0m\u001b[0;34m)\u001b[0m \u001b[0;34m,\u001b[0m \u001b[0mprint\u001b[0m\u001b[0;34m(\u001b[0m\u001b[0mpow\u001b[0m\u001b[0;34m(\u001b[0m\u001b[0;36m10\u001b[0m\u001b[0;34m,\u001b[0m\u001b[0mparam3\u001b[0m\u001b[0;34m[\u001b[0m\u001b[0;36m0\u001b[0m\u001b[0;34m]\u001b[0m\u001b[0;34m+\u001b[0m\u001b[0mperr3\u001b[0m\u001b[0;34m[\u001b[0m\u001b[0;36m1\u001b[0m\u001b[0;34m]\u001b[0m\u001b[0;34m)\u001b[0m\u001b[0;34m-\u001b[0m\u001b[0mpow\u001b[0m\u001b[0;34m(\u001b[0m\u001b[0;36m10\u001b[0m\u001b[0;34m,\u001b[0m\u001b[0mparam3\u001b[0m\u001b[0;34m[\u001b[0m\u001b[0;36m0\u001b[0m\u001b[0;34m]\u001b[0m\u001b[0;34m)\u001b[0m\u001b[0;34m)\u001b[0m\u001b[0;34m\u001b[0m\u001b[0m\n\u001b[1;32m      9\u001b[0m \u001b[0mprint\u001b[0m\u001b[0;34m(\u001b[0m\u001b[0mparam4\u001b[0m\u001b[0;34m[\u001b[0m\u001b[0;36m0\u001b[0m\u001b[0;34m]\u001b[0m \u001b[0;34m,\u001b[0m\u001b[0mpow\u001b[0m\u001b[0;34m(\u001b[0m\u001b[0;36m10\u001b[0m\u001b[0;34m,\u001b[0m\u001b[0mparam4\u001b[0m\u001b[0;34m[\u001b[0m\u001b[0;36m1\u001b[0m\u001b[0;34m]\u001b[0m\u001b[0;34m)\u001b[0m\u001b[0;34m)\u001b[0m \u001b[0;34m,\u001b[0m\u001b[0mprint\u001b[0m\u001b[0;34m(\u001b[0m\u001b[0;34m\"+/-\"\u001b[0m \u001b[0;34m,\u001b[0m\u001b[0mperr4\u001b[0m\u001b[0;34m[\u001b[0m\u001b[0;36m0\u001b[0m\u001b[0;34m]\u001b[0m\u001b[0;34m)\u001b[0m \u001b[0;34m,\u001b[0m \u001b[0mprint\u001b[0m\u001b[0;34m(\u001b[0m\u001b[0mpow\u001b[0m\u001b[0;34m(\u001b[0m\u001b[0;36m10\u001b[0m\u001b[0;34m,\u001b[0m\u001b[0mparam4\u001b[0m\u001b[0;34m[\u001b[0m\u001b[0;36m0\u001b[0m\u001b[0;34m]\u001b[0m\u001b[0;34m+\u001b[0m\u001b[0mperr4\u001b[0m\u001b[0;34m[\u001b[0m\u001b[0;36m1\u001b[0m\u001b[0;34m]\u001b[0m\u001b[0;34m)\u001b[0m\u001b[0;34m-\u001b[0m\u001b[0mpow\u001b[0m\u001b[0;34m(\u001b[0m\u001b[0;36m10\u001b[0m\u001b[0;34m,\u001b[0m\u001b[0mparam4\u001b[0m\u001b[0;34m[\u001b[0m\u001b[0;36m0\u001b[0m\u001b[0;34m]\u001b[0m\u001b[0;34m)\u001b[0m\u001b[0;34m)\u001b[0m\u001b[0;34m\u001b[0m\u001b[0m\n",
      "\u001b[0;31mIndexError\u001b[0m: index 1 is out of bounds for axis 0 with size 1"
     ]
    }
   ],
   "source": [
    "perr1 = np.sqrt(np.diag(cov1))\n",
    "perr2 = np.sqrt(np.diag(cov2))\n",
    "perr3 = np.sqrt(np.diag(cov3))\n",
    "perr4 = np.sqrt(np.diag(cov4))\n",
    "\n",
    "print(param1[0] ,pow(10,param1[1])),print(\"+/-\" ,perr1[0]) , print(pow(10,param1[0]+perr1[1])-pow(10,param1[0]))\n",
    "print(param2[0] ,pow(10,param2[1])),print(\"+/-\" ,perr2[0]) , print(pow(10,param2[0]+perr2[1])-pow(10,param2[0]))\n",
    "print(param3[0] ,pow(10,param3[1])) ,print(\"+/-\" ,perr3[0]) , print(pow(10,param3[0]+perr3[1])-pow(10,param3[0]))\n",
    "print(param4[0] ,pow(10,param4[1])) ,print(\"+/-\" ,perr4[0]) , print(pow(10,param4[0]+perr4[1])-pow(10,param4[0]))\n"
   ]
  },
  {
   "cell_type": "code",
   "execution_count": 21,
   "metadata": {},
   "outputs": [
    {
     "data": {
      "text/plain": [
       "(3.1037814991110717, 3.678161290254486, 9.8623869922448053e-06, 1.8)"
      ]
     },
     "execution_count": 21,
     "metadata": {},
     "output_type": "execute_result"
    }
   ],
   "source": [
    "#γ_相関長計算ソフト\n",
    "import math\n",
    "from scipy import integrate\n",
    "\n",
    "# proper distance \n",
    "#IA827 2243.2 ,2447.5\n",
    "#767 1882.0   2116.1\n",
    "# 738 1678.5  1895.1\n",
    "# 709 1485.2 　1702.2 \n",
    "# 679  1267.4 1506.2\n",
    "#  624   873.9 1100.8\n",
    "\n",
    "beta = -0.8 \n",
    "gam = 1 - beta \n",
    "\n",
    "#IA827   2243.2 ,2447.5\n",
    "x=np.linspace(2243.2   ,2447.5 ,10000)\n",
    "I_v = (pow(3.14,0.5) * math.gamma(gam/2 - 1/2 ))/(math.gamma(gam/2))\n",
    "y1=pow(x , 5 - gam)\n",
    "y2=pow(x,2)\n",
    "\n",
    "y1_inte = integrate.simps(y1, x,)\n",
    "y2_inte = integrate.simps(y2, x )\n",
    "\n",
    "S = (y1_inte)/(pow(y2_inte,2))\n",
    "A_w= (0.018  - 0.0045)  * pow(57.295,beta)\n",
    "r_0 = pow(A_w/(I_v*S),(1/gam))\n",
    "\n",
    "r_0*0.7　, gam , I_v , S \n",
    "\n",
    "#0.004 - 0.2 fitting バンド単体\n",
    "# IA827  3.77   gam 1.55\n",
    "# IA767 4.05  gam 1.94 \n",
    "# IA738  2.45   gam 2.867\n",
    "\n",
    "#0.004 - 0.2 fitting 　発表スライドの合わせバンド\n",
    "#IA827 IA767  5.75  1.866\n",
    "#IA738 IA709  4.86492  1.8667\n",
    "#IA624_IA679  6.7342  1.6093\n",
    "\n"
   ]
  },
  {
   "cell_type": "markdown",
   "metadata": {},
   "source": [
    "西塚様\n",
    "\n",
    "計算してみました。\n",
    "\n",
    "H0=70 km/s/Mpc\n",
    "Omega_m=0.3\n",
    "Omega_l=0.7\n",
    "\n",
    "Proper Distance:\n",
    "z1=1.171 -> d1=3699.7 Mpc\n",
    "z2=1.203 -> d2=3769.6 Mpc\n",
    "\n",
    "beta=-0.88\n",
    "gamma=1-beta=1.88\n",
    "\n",
    "I=3.43632669\n",
    "S=1.02792E-05\n",
    "\n",
    "A_deg=0.0064 (degree space)\n",
    "A_rad=A_deg*(rad/degree)^beta=0.000181565 (radian space)\n",
    "\n",
    "r0=(A_rad/I/S)^(1/gamma)\n",
    " =2.388800378 Mpc \n",
    " =1.672160265/h M\n",
    " \n"
   ]
  }
 ],
 "metadata": {
  "anaconda-cloud": {},
  "kernelspec": {
   "display_name": "Python 3 (ipykernel)",
   "language": "python",
   "name": "python3"
  },
  "language_info": {
   "codemirror_mode": {
    "name": "ipython",
    "version": 3
   },
   "file_extension": ".py",
   "mimetype": "text/x-python",
   "name": "python",
   "nbconvert_exporter": "python",
   "pygments_lexer": "ipython3",
   "version": "3.12.4"
  }
 },
 "nbformat": 4,
 "nbformat_minor": 4
}
